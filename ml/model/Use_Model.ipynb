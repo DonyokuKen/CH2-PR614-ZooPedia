{
  "cells": [
    {
      "cell_type": "markdown",
      "metadata": {
        "id": "yDWF6LPYZnln"
      },
      "source": [
        "## How to use\n",
        "- open in google collab\n",
        "- Runtime -> Run all\n",
        "- scroll to end and upload your animal picture\n",
        "\n",
        "\n",
        "list of animal [\"dog\", \"horse\", \"elephant\", \"butterfly\", \"chicken\", \"cat\", \"cow\", \"sheep\", \"spider\", \"squirrel\"]\n"
      ]
    },
    {
      "cell_type": "markdown",
      "metadata": {},
      "source": [
        "<a href=\"https://colab.research.google.com/github/DonyokuKen/CH2-PR614-ZooPedia/blob/main/ml/model/Use_Model.ipynb\" target=\"_parent\"><img src=\"https://colab.research.google.com/assets/colab-badge.svg\" alt=\"Open In Colab\"/></a>"
      ]
    },
    {
      "cell_type": "code",
      "execution_count": 1,
      "metadata": {
        "id": "ysCOob8W5FqU"
      },
      "outputs": [],
      "source": [
        "!pip install tensorflow\n",
        "!pip install ipywidgets\n",
        "!pip install opencv-python\n",
        "!git clone https://github.com/DonyokuKen/CH2-PR614-ZooPedia.git\n",
        "\n",
        "from IPython.display import clear_output\n",
        "\n",
        "clear_output()"
      ]
    },
    {
      "cell_type": "code",
      "execution_count": null,
      "metadata": {
        "id": "9di3yu9pMIJt"
      },
      "outputs": [],
      "source": [
        "from tensorflow import keras\n",
        "from ipywidgets import widgets\n",
        "from IPython.display import display, Image\n",
        "import cv2\n",
        "import numpy as np\n",
        "from tensorflow.keras.applications.vgg16 import preprocess_input, decode_predictions\n",
        "import os\n",
        "\n",
        "modelDir = '/content/CH2-PR614-ZooPedia/ml/model/model-zoopedia.hdf5'\n",
        "\n",
        "#load model\n",
        "model = keras.models.load_model(modelDir)\n",
        "classes = ['cane', 'cavallo', 'elefante', 'farfalla', 'gallina', 'gatto', 'mucca', 'pecora', 'ragno', 'scoiattolo']\n",
        "translate = [\"dog\", \"horse\", \"elephant\", \"butterfly\", \"chicken\", \"cat\", \"cow\", \"sheep\", \"spider\", \"squirrel\"]"
      ]
    },
    {
      "cell_type": "code",
      "execution_count": null,
      "metadata": {
        "id": "YXhGn839MJoq"
      },
      "outputs": [],
      "source": [
        "\n",
        "#predict image\n",
        "def predict_image(img):\n",
        "    img = cv2.resize(img, (224, 224))\n",
        "    img = np.expand_dims(img, axis=0)\n",
        "    img = preprocess_input(img)\n",
        "    result = model.predict(img)\n",
        "    prediction = translate[np.argmax(result[0])]\n",
        "    return prediction\n",
        "\n",
        "#file upload\n",
        "def on_upload_button_click(change):\n",
        "    if upload_button.value:\n",
        "        file_info = next(iter(upload_button.value.values()))\n",
        "        file_contents = file_info.get(\"content\", None)\n",
        "        if file_contents:\n",
        "            img = cv2.imdecode(np.frombuffer(file_contents, np.uint8), 1)\n",
        "            img = cv2.cvtColor(img, cv2.COLOR_BGR2RGB)\n",
        "            img = cv2.resize(img, (300, 300))\n",
        "            img_widget.value = cv2.imencode('.png', cv2.cvtColor(img, cv2.COLOR_RGB2BGR))[1].tobytes()\n",
        "            prediction = predict_image(img)\n",
        "            result_label.value = f'Predicted animal is {prediction}'\n",
        "            info(prediction)\n",
        "\n",
        "\n",
        "def info(prediction):\n",
        "    if prediction == \"dog\":\n",
        "        print(\"Ini adalah anjing, anjing guguk\")\n",
        "    elif prediction == \"horse\":\n",
        "        print(\"Kuda ku lari kencang, wuingggg\")\n",
        "    elif prediction == \"elephant\":\n",
        "        print(\"Gimana cara masukin gajah ke kulkas, buka kulkas nya, masukin gajahnya\")\n",
        "    elif prediction == \"butterfly\":\n",
        "        print(\"smutt likeee butter fly kaowkaowkaokwok\")\n",
        "    elif prediction == \"chicken\":\n",
        "        print(\"ayaam chicken nugeet, fiesstaa ciken nugeett, aku mau setyap hari, fiesta..\")\n",
        "    elif prediction == \"cat\":\n",
        "        print(\"kucing kucing apa yang manis, ku cingta kamuh, muachh\")\n",
        "    elif prediction == \"cow\":\n",
        "        print(\"aaa yoo yooo rajuuuuu, maneee punya sapii, sepiiii gooooo\")\n",
        "    elif prediction == \"sheep\":\n",
        "        print(\"mbeeeee, its Shaun the sheep\")\n",
        "    elif prediction == \"spider\":\n",
        "        print(\"spiderr meennn, betmennn\")\n",
        "    elif prediction == \"squirrel\":\n",
        "        print(\"disana ada tupaii, manaa??? ituuu\")\n"
      ]
    },
    {
      "cell_type": "code",
      "execution_count": null,
      "metadata": {
        "id": "wDQMAz5vRaMy"
      },
      "outputs": [],
      "source": [
        "upload_button = widgets.FileUpload()\n",
        "upload_button.observe(on_upload_button_click, names='value')\n",
        "\n",
        "img_widget = widgets.Image()\n",
        "result_label = widgets.Label(value=\"Result:\")"
      ]
    },
    {
      "cell_type": "code",
      "execution_count": null,
      "metadata": {
        "colab": {
          "base_uri": "https://localhost:8080/",
          "height": 424,
          "referenced_widgets": [
            "596273fbddee45b49948b187d3e12535",
            "980ef86069ad406d8cb7b67e1680592d",
            "f8c39a0c101e4a8994013863e48ba6d1",
            "d5f9810c75c6429fbbe73b6f5e69b662",
            "a920a7a2bd4d41c89023c424d56dd008",
            "38ecdf060bfd402599972cea3801a156",
            "2e59f03fe3a141838a2e4fd277e68c79",
            "0ee52c1138cc4432894977bc7b5af611"
          ]
        },
        "id": "XhX2HydBRcME",
        "outputId": "00aeb89b-d74e-4ac1-880d-fc4d2d8f4b65"
      },
      "outputs": [
        {
          "data": {
            "application/vnd.jupyter.widget-view+json": {
              "model_id": "596273fbddee45b49948b187d3e12535",
              "version_major": 2,
              "version_minor": 0
            },
            "text/plain": [
              "FileUpload(value={'images (1).jpeg': {'metadata': {'name': 'images (1).jpeg', 'type': 'image/jpeg', 'size': 44…"
            ]
          },
          "metadata": {},
          "output_type": "display_data"
        },
        {
          "data": {
            "application/vnd.jupyter.widget-view+json": {
              "model_id": "d5f9810c75c6429fbbe73b6f5e69b662",
              "version_major": 2,
              "version_minor": 0
            },
            "text/plain": [
              "Image(value=b'\\x89PNG\\r\\n\\x1a\\n\\x00\\x00\\x00\\rIHDR\\x00\\x00\\x01,\\x00\\x00\\x01,\\x08\\x02\\x00\\x00\\x00\\xf6\\x1f\\x19\"\\x…"
            ]
          },
          "metadata": {},
          "output_type": "display_data"
        },
        {
          "data": {
            "application/vnd.jupyter.widget-view+json": {
              "model_id": "38ecdf060bfd402599972cea3801a156",
              "version_major": 2,
              "version_minor": 0
            },
            "text/plain": [
              "Label(value='Predicted animal is elephant')"
            ]
          },
          "metadata": {},
          "output_type": "display_data"
        },
        {
          "name": "stdout",
          "output_type": "stream",
          "text": [
            "1/1 [==============================] - 1s 546ms/step\n",
            "Ini adalah anjing, anjing guguk\n"
          ]
        }
      ],
      "source": [
        "display(upload_button)\n",
        "display(img_widget)\n",
        "display(result_label)"
      ]
    }
  ],
  "metadata": {
    "colab": {
      "provenance": []
    },
    "kernelspec": {
      "display_name": "Python 3",
      "name": "python3"
    },
    "language_info": {
      "codemirror_mode": {
        "name": "ipython",
        "version": 3
      },
      "file_extension": ".py",
      "mimetype": "text/x-python",
      "name": "python",
      "nbconvert_exporter": "python",
      "pygments_lexer": "ipython3",
      "version": "3.11.4"
    },
    "widgets": {
      "application/vnd.jupyter.widget-state+json": {
        "0ee52c1138cc4432894977bc7b5af611": {
          "model_module": "@jupyter-widgets/controls",
          "model_module_version": "1.5.0",
          "model_name": "DescriptionStyleModel",
          "state": {
            "_model_module": "@jupyter-widgets/controls",
            "_model_module_version": "1.5.0",
            "_model_name": "DescriptionStyleModel",
            "_view_count": null,
            "_view_module": "@jupyter-widgets/base",
            "_view_module_version": "1.2.0",
            "_view_name": "StyleView",
            "description_width": ""
          }
        },
        "2e59f03fe3a141838a2e4fd277e68c79": {
          "model_module": "@jupyter-widgets/base",
          "model_module_version": "1.2.0",
          "model_name": "LayoutModel",
          "state": {
            "_model_module": "@jupyter-widgets/base",
            "_model_module_version": "1.2.0",
            "_model_name": "LayoutModel",
            "_view_count": null,
            "_view_module": "@jupyter-widgets/base",
            "_view_module_version": "1.2.0",
            "_view_name": "LayoutView",
            "align_content": null,
            "align_items": null,
            "align_self": null,
            "border": null,
            "bottom": null,
            "display": null,
            "flex": null,
            "flex_flow": null,
            "grid_area": null,
            "grid_auto_columns": null,
            "grid_auto_flow": null,
            "grid_auto_rows": null,
            "grid_column": null,
            "grid_gap": null,
            "grid_row": null,
            "grid_template_areas": null,
            "grid_template_columns": null,
            "grid_template_rows": null,
            "height": null,
            "justify_content": null,
            "justify_items": null,
            "left": null,
            "margin": null,
            "max_height": null,
            "max_width": null,
            "min_height": null,
            "min_width": null,
            "object_fit": null,
            "object_position": null,
            "order": null,
            "overflow": null,
            "overflow_x": null,
            "overflow_y": null,
            "padding": null,
            "right": null,
            "top": null,
            "visibility": null,
            "width": null
          }
        },
        "38ecdf060bfd402599972cea3801a156": {
          "model_module": "@jupyter-widgets/controls",
          "model_module_version": "1.5.0",
          "model_name": "LabelModel",
          "state": {
            "_dom_classes": [],
            "_model_module": "@jupyter-widgets/controls",
            "_model_module_version": "1.5.0",
            "_model_name": "LabelModel",
            "_view_count": null,
            "_view_module": "@jupyter-widgets/controls",
            "_view_module_version": "1.5.0",
            "_view_name": "LabelView",
            "description": "",
            "description_tooltip": null,
            "layout": "IPY_MODEL_2e59f03fe3a141838a2e4fd277e68c79",
            "placeholder": "​",
            "style": "IPY_MODEL_0ee52c1138cc4432894977bc7b5af611",
            "value": "Predicted animal is dog"
          }
        },
        "596273fbddee45b49948b187d3e12535": {
          "model_module": "@jupyter-widgets/controls",
          "model_module_version": "1.5.0",
          "model_name": "FileUploadModel",
          "state": {
            "_counter": 20,
            "_dom_classes": [],
            "_model_module": "@jupyter-widgets/controls",
            "_model_module_version": "1.5.0",
            "_model_name": "FileUploadModel",
            "_view_count": null,
            "_view_module": "@jupyter-widgets/controls",
            "_view_module_version": "1.5.0",
            "_view_name": "FileUploadView",
            "accept": "",
            "button_style": "",
            "data": [
              null
            ],
            "description": "Upload",
            "description_tooltip": null,
            "disabled": false,
            "error": "",
            "icon": "upload",
            "layout": "IPY_MODEL_980ef86069ad406d8cb7b67e1680592d",
            "metadata": [
              {
                "lastModified": 1702556281744,
                "name": "dog-puppy-on-garden-royalty-free-image-1586966191.jpg",
                "size": 121984,
                "type": "image/jpeg"
              }
            ],
            "multiple": false,
            "style": "IPY_MODEL_f8c39a0c101e4a8994013863e48ba6d1"
          }
        },
        "980ef86069ad406d8cb7b67e1680592d": {
          "model_module": "@jupyter-widgets/base",
          "model_module_version": "1.2.0",
          "model_name": "LayoutModel",
          "state": {
            "_model_module": "@jupyter-widgets/base",
            "_model_module_version": "1.2.0",
            "_model_name": "LayoutModel",
            "_view_count": null,
            "_view_module": "@jupyter-widgets/base",
            "_view_module_version": "1.2.0",
            "_view_name": "LayoutView",
            "align_content": null,
            "align_items": null,
            "align_self": null,
            "border": null,
            "bottom": null,
            "display": null,
            "flex": null,
            "flex_flow": null,
            "grid_area": null,
            "grid_auto_columns": null,
            "grid_auto_flow": null,
            "grid_auto_rows": null,
            "grid_column": null,
            "grid_gap": null,
            "grid_row": null,
            "grid_template_areas": null,
            "grid_template_columns": null,
            "grid_template_rows": null,
            "height": null,
            "justify_content": null,
            "justify_items": null,
            "left": null,
            "margin": null,
            "max_height": null,
            "max_width": null,
            "min_height": null,
            "min_width": null,
            "object_fit": null,
            "object_position": null,
            "order": null,
            "overflow": null,
            "overflow_x": null,
            "overflow_y": null,
            "padding": null,
            "right": null,
            "top": null,
            "visibility": null,
            "width": null
          }
        },
        "a920a7a2bd4d41c89023c424d56dd008": {
          "model_module": "@jupyter-widgets/base",
          "model_module_version": "1.2.0",
          "model_name": "LayoutModel",
          "state": {
            "_model_module": "@jupyter-widgets/base",
            "_model_module_version": "1.2.0",
            "_model_name": "LayoutModel",
            "_view_count": null,
            "_view_module": "@jupyter-widgets/base",
            "_view_module_version": "1.2.0",
            "_view_name": "LayoutView",
            "align_content": null,
            "align_items": null,
            "align_self": null,
            "border": null,
            "bottom": null,
            "display": null,
            "flex": null,
            "flex_flow": null,
            "grid_area": null,
            "grid_auto_columns": null,
            "grid_auto_flow": null,
            "grid_auto_rows": null,
            "grid_column": null,
            "grid_gap": null,
            "grid_row": null,
            "grid_template_areas": null,
            "grid_template_columns": null,
            "grid_template_rows": null,
            "height": null,
            "justify_content": null,
            "justify_items": null,
            "left": null,
            "margin": null,
            "max_height": null,
            "max_width": null,
            "min_height": null,
            "min_width": null,
            "object_fit": null,
            "object_position": null,
            "order": null,
            "overflow": null,
            "overflow_x": null,
            "overflow_y": null,
            "padding": null,
            "right": null,
            "top": null,
            "visibility": null,
            "width": null
          }
        },
        "d5f9810c75c6429fbbe73b6f5e69b662": {
          "model_module": "@jupyter-widgets/controls",
          "model_module_version": "1.5.0",
          "model_name": "ImageModel",
          "state": {
            "_dom_classes": [],
            "_model_module": "@jupyter-widgets/controls",
            "_model_module_version": "1.5.0",
            "_model_name": "ImageModel",
            "_view_count": null,
            "_view_module": "@jupyter-widgets/controls",
            "_view_module_version": "1.5.0",
            "_view_name": "ImageView",
            "format": "png",
            "height": "",
            "layout": "IPY_MODEL_a920a7a2bd4d41c89023c424d56dd008",
            "width": ""
          }
        },
        "f8c39a0c101e4a8994013863e48ba6d1": {
          "model_module": "@jupyter-widgets/controls",
          "model_module_version": "1.5.0",
          "model_name": "ButtonStyleModel",
          "state": {
            "_model_module": "@jupyter-widgets/controls",
            "_model_module_version": "1.5.0",
            "_model_name": "ButtonStyleModel",
            "_view_count": null,
            "_view_module": "@jupyter-widgets/base",
            "_view_module_version": "1.2.0",
            "_view_name": "StyleView",
            "button_color": null,
            "font_weight": ""
          }
        }
      }
    }
  },
  "nbformat": 4,
  "nbformat_minor": 0
}
