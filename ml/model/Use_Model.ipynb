{
  "nbformat": 4,
  "nbformat_minor": 0,
  "metadata": {
    "colab": {
      "provenance": []
    },
    "kernelspec": {
      "name": "python3",
      "display_name": "Python 3"
    },
    "language_info": {
      "name": "python"
    },
    "widgets": {
      "application/vnd.jupyter.widget-state+json": {
        "596273fbddee45b49948b187d3e12535": {
          "model_module": "@jupyter-widgets/controls",
          "model_name": "FileUploadModel",
          "model_module_version": "1.5.0",
          "state": {
            "_counter": 20,
            "_dom_classes": [],
            "_model_module": "@jupyter-widgets/controls",
            "_model_module_version": "1.5.0",
            "_model_name": "FileUploadModel",
            "_view_count": null,
            "_view_module": "@jupyter-widgets/controls",
            "_view_module_version": "1.5.0",
            "_view_name": "FileUploadView",
            "accept": "",
            "button_style": "",
            "data": [
              null
            ],
            "description": "Upload",
            "description_tooltip": null,
            "disabled": false,
            "error": "",
            "icon": "upload",
            "layout": "IPY_MODEL_980ef86069ad406d8cb7b67e1680592d",
            "metadata": [
              {
                "name": "dog-puppy-on-garden-royalty-free-image-1586966191.jpg",
                "type": "image/jpeg",
                "size": 121984,
                "lastModified": 1702556281744
              }
            ],
            "multiple": false,
            "style": "IPY_MODEL_f8c39a0c101e4a8994013863e48ba6d1"
          }
        },
        "980ef86069ad406d8cb7b67e1680592d": {
          "model_module": "@jupyter-widgets/base",
          "model_name": "LayoutModel",
          "model_module_version": "1.2.0",
          "state": {
            "_model_module": "@jupyter-widgets/base",
            "_model_module_version": "1.2.0",
            "_model_name": "LayoutModel",
            "_view_count": null,
            "_view_module": "@jupyter-widgets/base",
            "_view_module_version": "1.2.0",
            "_view_name": "LayoutView",
            "align_content": null,
            "align_items": null,
            "align_self": null,
            "border": null,
            "bottom": null,
            "display": null,
            "flex": null,
            "flex_flow": null,
            "grid_area": null,
            "grid_auto_columns": null,
            "grid_auto_flow": null,
            "grid_auto_rows": null,
            "grid_column": null,
            "grid_gap": null,
            "grid_row": null,
            "grid_template_areas": null,
            "grid_template_columns": null,
            "grid_template_rows": null,
            "height": null,
            "justify_content": null,
            "justify_items": null,
            "left": null,
            "margin": null,
            "max_height": null,
            "max_width": null,
            "min_height": null,
            "min_width": null,
            "object_fit": null,
            "object_position": null,
            "order": null,
            "overflow": null,
            "overflow_x": null,
            "overflow_y": null,
            "padding": null,
            "right": null,
            "top": null,
            "visibility": null,
            "width": null
          }
        },
        "f8c39a0c101e4a8994013863e48ba6d1": {
          "model_module": "@jupyter-widgets/controls",
          "model_name": "ButtonStyleModel",
          "model_module_version": "1.5.0",
          "state": {
            "_model_module": "@jupyter-widgets/controls",
            "_model_module_version": "1.5.0",
            "_model_name": "ButtonStyleModel",
            "_view_count": null,
            "_view_module": "@jupyter-widgets/base",
            "_view_module_version": "1.2.0",
            "_view_name": "StyleView",
            "button_color": null,
            "font_weight": ""
          }
        },
        "d5f9810c75c6429fbbe73b6f5e69b662": {
          "model_module": "@jupyter-widgets/controls",
          "model_name": "ImageModel",
          "model_module_version": "1.5.0",
          "state": {
            "_dom_classes": [],
            "_model_module": "@jupyter-widgets/controls",
            "_model_module_version": "1.5.0",
            "_model_name": "ImageModel",
            "_view_count": null,
            "_view_module": "@jupyter-widgets/controls",
            "_view_module_version": "1.5.0",
            "_view_name": "ImageView",
            "format": "png",
            "height": "",
            "layout": "IPY_MODEL_a920a7a2bd4d41c89023c424d56dd008",
            "width": ""
          }
        },
        "a920a7a2bd4d41c89023c424d56dd008": {
          "model_module": "@jupyter-widgets/base",
          "model_name": "LayoutModel",
          "model_module_version": "1.2.0",
          "state": {
            "_model_module": "@jupyter-widgets/base",
            "_model_module_version": "1.2.0",
            "_model_name": "LayoutModel",
            "_view_count": null,
            "_view_module": "@jupyter-widgets/base",
            "_view_module_version": "1.2.0",
            "_view_name": "LayoutView",
            "align_content": null,
            "align_items": null,
            "align_self": null,
            "border": null,
            "bottom": null,
            "display": null,
            "flex": null,
            "flex_flow": null,
            "grid_area": null,
            "grid_auto_columns": null,
            "grid_auto_flow": null,
            "grid_auto_rows": null,
            "grid_column": null,
            "grid_gap": null,
            "grid_row": null,
            "grid_template_areas": null,
            "grid_template_columns": null,
            "grid_template_rows": null,
            "height": null,
            "justify_content": null,
            "justify_items": null,
            "left": null,
            "margin": null,
            "max_height": null,
            "max_width": null,
            "min_height": null,
            "min_width": null,
            "object_fit": null,
            "object_position": null,
            "order": null,
            "overflow": null,
            "overflow_x": null,
            "overflow_y": null,
            "padding": null,
            "right": null,
            "top": null,
            "visibility": null,
            "width": null
          }
        },
        "38ecdf060bfd402599972cea3801a156": {
          "model_module": "@jupyter-widgets/controls",
          "model_name": "LabelModel",
          "model_module_version": "1.5.0",
          "state": {
            "_dom_classes": [],
            "_model_module": "@jupyter-widgets/controls",
            "_model_module_version": "1.5.0",
            "_model_name": "LabelModel",
            "_view_count": null,
            "_view_module": "@jupyter-widgets/controls",
            "_view_module_version": "1.5.0",
            "_view_name": "LabelView",
            "description": "",
            "description_tooltip": null,
            "layout": "IPY_MODEL_2e59f03fe3a141838a2e4fd277e68c79",
            "placeholder": "​",
            "style": "IPY_MODEL_0ee52c1138cc4432894977bc7b5af611",
            "value": "Predicted animal is dog"
          }
        },
        "2e59f03fe3a141838a2e4fd277e68c79": {
          "model_module": "@jupyter-widgets/base",
          "model_name": "LayoutModel",
          "model_module_version": "1.2.0",
          "state": {
            "_model_module": "@jupyter-widgets/base",
            "_model_module_version": "1.2.0",
            "_model_name": "LayoutModel",
            "_view_count": null,
            "_view_module": "@jupyter-widgets/base",
            "_view_module_version": "1.2.0",
            "_view_name": "LayoutView",
            "align_content": null,
            "align_items": null,
            "align_self": null,
            "border": null,
            "bottom": null,
            "display": null,
            "flex": null,
            "flex_flow": null,
            "grid_area": null,
            "grid_auto_columns": null,
            "grid_auto_flow": null,
            "grid_auto_rows": null,
            "grid_column": null,
            "grid_gap": null,
            "grid_row": null,
            "grid_template_areas": null,
            "grid_template_columns": null,
            "grid_template_rows": null,
            "height": null,
            "justify_content": null,
            "justify_items": null,
            "left": null,
            "margin": null,
            "max_height": null,
            "max_width": null,
            "min_height": null,
            "min_width": null,
            "object_fit": null,
            "object_position": null,
            "order": null,
            "overflow": null,
            "overflow_x": null,
            "overflow_y": null,
            "padding": null,
            "right": null,
            "top": null,
            "visibility": null,
            "width": null
          }
        },
        "0ee52c1138cc4432894977bc7b5af611": {
          "model_module": "@jupyter-widgets/controls",
          "model_name": "DescriptionStyleModel",
          "model_module_version": "1.5.0",
          "state": {
            "_model_module": "@jupyter-widgets/controls",
            "_model_module_version": "1.5.0",
            "_model_name": "DescriptionStyleModel",
            "_view_count": null,
            "_view_module": "@jupyter-widgets/base",
            "_view_module_version": "1.2.0",
            "_view_name": "StyleView",
            "description_width": ""
          }
        }
      }
    }
  },
  "cells": [
    {
      "cell_type": "markdown",
      "source": [
        "## How to use\n",
        "- open in google collab\n",
        "- Runtime -> Run all\n",
        "- scroll to end and upload your animal picture\n",
        "\n",
        "\n",
        "list of animal [\"dog\", \"horse\", \"elephant\", \"butterfly\", \"chicken\", \"cat\", \"cow\", \"sheep\", \"spider\", \"squirrel\"]\n"
      ],
      "metadata": {
        "id": "yDWF6LPYZnln"
      }
    },
    {
      "cell_type": "code",
      "execution_count": 63,
      "metadata": {
        "id": "ysCOob8W5FqU"
      },
      "outputs": [],
      "source": [
        "!pip install tensorflow\n",
        "!pip install ipywidgets\n",
        "!pip install opencv-python\n",
        "!git clone https://github.com/DonyokuKen/CH2-PR614-ZooPedia.git\n",
        "\n",
        "clear_output()"
      ]
    },
    {
      "cell_type": "code",
      "source": [
        "from tensorflow import keras\n",
        "from ipywidgets import widgets\n",
        "from IPython.display import display, Image\n",
        "from IPython.display import clear_output\n",
        "import cv2\n",
        "import numpy as np\n",
        "from tensorflow.keras.applications.vgg16 import preprocess_input, decode_predictions\n",
        "import os\n",
        "\n",
        "modelDir = '/content/CH2-PR614-ZooPedia/ml/model/model-zoopedia.hdf5'\n",
        "\n",
        "#load model\n",
        "model = keras.models.load_model(modelDir)\n",
        "classes = ['cane', 'cavallo', 'elefante', 'farfalla', 'gallina', 'gatto', 'mucca', 'pecora', 'ragno', 'scoiattolo']\n",
        "translate = [\"dog\", \"horse\", \"elephant\", \"butterfly\", \"chicken\", \"cat\", \"cow\", \"sheep\", \"spider\", \"squirrel\"]"
      ],
      "metadata": {
        "id": "9di3yu9pMIJt"
      },
      "execution_count": 38,
      "outputs": []
    },
    {
      "cell_type": "code",
      "source": [
        "\n",
        "#predict image\n",
        "def predict_image(img):\n",
        "    img = cv2.resize(img, (224, 224))\n",
        "    img = np.expand_dims(img, axis=0)\n",
        "    img = preprocess_input(img)\n",
        "    result = model.predict(img)\n",
        "    prediction = translate[np.argmax(result[0])]\n",
        "    return prediction\n",
        "\n",
        "#file upload\n",
        "def on_upload_button_click(change):\n",
        "    if upload_button.value:\n",
        "        file_info = next(iter(upload_button.value.values()))\n",
        "        file_contents = file_info.get(\"content\", None)\n",
        "        if file_contents:\n",
        "            img = cv2.imdecode(np.frombuffer(file_contents, np.uint8), 1)\n",
        "            img = cv2.cvtColor(img, cv2.COLOR_BGR2RGB)\n",
        "            img = cv2.resize(img, (300, 300))\n",
        "            img_widget.value = cv2.imencode('.png', cv2.cvtColor(img, cv2.COLOR_RGB2BGR))[1].tobytes()\n",
        "            prediction = predict_image(img)\n",
        "            result_label.value = f'Predicted animal is {prediction}'\n",
        "            info(prediction)\n",
        "\n",
        "\n",
        "def info(prediction):\n",
        "    if prediction == \"dog\":\n",
        "        print(\"Ini adalah anjing, anjing guguk\")\n",
        "    elif prediction == \"horse\":\n",
        "        print(\"Kuda ku lari kencang, wuingggg\")\n",
        "    elif prediction == \"elephant\":\n",
        "        print(\"Gimana cara masukin gajah ke kulkas, buka kulkas nya, masukin gajahnya\")\n",
        "    elif prediction == \"butterfly\":\n",
        "        print(\"smutt likeee butter fly kaowkaowkaokwok\")\n",
        "    elif prediction == \"chicken\":\n",
        "        print(\"ayaam chicken nugeet, fiesstaa ciken nugeett, aku mau setyap hari, fiesta..\")\n",
        "    elif prediction == \"cat\":\n",
        "        print(\"kucing kucing apa yang manis, ku cingta kamuh, muachh\")\n",
        "    elif prediction == \"cow\":\n",
        "        print(\"aaa yoo yooo rajuuuuu, maneee punya sapii, sepiiii gooooo\")\n",
        "    elif prediction == \"sheep\":\n",
        "        print(\"mbeeeee, its Shaun the sheep\")\n",
        "    elif prediction == \"spider\":\n",
        "        print(\"spiderr meennn, betmennn\")\n",
        "    elif prediction == \"squirrel\":\n",
        "        print(\"disana ada tupaii, manaa??? ituuu\")\n",
        ""
      ],
      "metadata": {
        "id": "YXhGn839MJoq"
      },
      "execution_count": 52,
      "outputs": []
    },
    {
      "cell_type": "code",
      "source": [
        "upload_button = widgets.FileUpload()\n",
        "upload_button.observe(on_upload_button_click, names='value')\n",
        "\n",
        "img_widget = widgets.Image()\n",
        "result_label = widgets.Label(value=\"Result:\")"
      ],
      "metadata": {
        "id": "wDQMAz5vRaMy"
      },
      "execution_count": 35,
      "outputs": []
    },
    {
      "cell_type": "code",
      "source": [
        "display(upload_button)\n",
        "display(img_widget)\n",
        "display(result_label)"
      ],
      "metadata": {
        "colab": {
          "base_uri": "https://localhost:8080/",
          "height": 424,
          "referenced_widgets": [
            "596273fbddee45b49948b187d3e12535",
            "980ef86069ad406d8cb7b67e1680592d",
            "f8c39a0c101e4a8994013863e48ba6d1",
            "d5f9810c75c6429fbbe73b6f5e69b662",
            "a920a7a2bd4d41c89023c424d56dd008",
            "38ecdf060bfd402599972cea3801a156",
            "2e59f03fe3a141838a2e4fd277e68c79",
            "0ee52c1138cc4432894977bc7b5af611"
          ]
        },
        "id": "XhX2HydBRcME",
        "outputId": "00aeb89b-d74e-4ac1-880d-fc4d2d8f4b65"
      },
      "execution_count": 61,
      "outputs": [
        {
          "output_type": "display_data",
          "data": {
            "text/plain": [
              "FileUpload(value={'images (1).jpeg': {'metadata': {'name': 'images (1).jpeg', 'type': 'image/jpeg', 'size': 44…"
            ],
            "application/vnd.jupyter.widget-view+json": {
              "version_major": 2,
              "version_minor": 0,
              "model_id": "596273fbddee45b49948b187d3e12535"
            }
          },
          "metadata": {}
        },
        {
          "output_type": "display_data",
          "data": {
            "text/plain": [
              "Image(value=b'\\x89PNG\\r\\n\\x1a\\n\\x00\\x00\\x00\\rIHDR\\x00\\x00\\x01,\\x00\\x00\\x01,\\x08\\x02\\x00\\x00\\x00\\xf6\\x1f\\x19\"\\x…"
            ],
            "application/vnd.jupyter.widget-view+json": {
              "version_major": 2,
              "version_minor": 0,
              "model_id": "d5f9810c75c6429fbbe73b6f5e69b662"
            }
          },
          "metadata": {}
        },
        {
          "output_type": "display_data",
          "data": {
            "text/plain": [
              "Label(value='Predicted animal is elephant')"
            ],
            "application/vnd.jupyter.widget-view+json": {
              "version_major": 2,
              "version_minor": 0,
              "model_id": "38ecdf060bfd402599972cea3801a156"
            }
          },
          "metadata": {}
        },
        {
          "output_type": "stream",
          "name": "stdout",
          "text": [
            "1/1 [==============================] - 1s 546ms/step\n",
            "Ini adalah anjing, anjing guguk\n"
          ]
        }
      ]
    }
  ]
}